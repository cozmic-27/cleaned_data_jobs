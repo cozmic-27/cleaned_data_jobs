{
 "cells": [
  {
   "cell_type": "code",
   "execution_count": 7,
   "metadata": {
    "colab": {
     "base_uri": "https://localhost:8080/"
    },
    "id": "O47zsXP6os6-",
    "outputId": "a7eab75d-ec2a-4599-cbaf-b72e1d508841"
   },
   "outputs": [
    {
     "name": "stdout",
     "output_type": "stream",
     "text": [
      "index                0\n",
      "Job Title            0\n",
      "Salary Estimate      0\n",
      "Job Description      0\n",
      "Rating               0\n",
      "Company Name         0\n",
      "Location             0\n",
      "Headquarters         0\n",
      "Size                 0\n",
      "Founded              0\n",
      "Type of ownership    0\n",
      "Industry             0\n",
      "Sector               0\n",
      "Revenue              0\n",
      "Competitors          0\n",
      "dtype: int64\n",
      "   index          Job Title  Salary Estimate  \\\n",
      "0      0  Sr Data Scientist           137171   \n",
      "1      1     Data Scientist           137171   \n",
      "2      2     Data Scientist           137171   \n",
      "3      3     Data Scientist           137171   \n",
      "4      4     Data Scientist           137171   \n",
      "\n",
      "                                     Job Description  Rating  \\\n",
      "0  Description\\n\\nThe Senior Data Scientist is re...     3.1   \n",
      "1  Secure our Nation, Ignite your Future\\n\\nJoin ...     4.2   \n",
      "2  Overview\\n\\n\\nAnalysis Group is one of the lar...     3.8   \n",
      "3  JOB DESCRIPTION:\\n\\nDo you have a passion for ...     3.5   \n",
      "4  Data Scientist\\nAffinity Solutions / Marketing...     2.9   \n",
      "\n",
      "              Company Name       Location            Headquarters  \\\n",
      "0         Healthfirst\\n3.1   New York, NY            New York, NY   \n",
      "1             ManTech\\n4.2  Chantilly, VA             Herndon, VA   \n",
      "2      Analysis Group\\n3.8     Boston, MA              Boston, MA   \n",
      "3             INFICON\\n3.5     Newton, MA  Bad Ragaz, Switzerland   \n",
      "4  Affinity Solutions\\n2.9   New York, NY            New York, NY   \n",
      "\n",
      "                      Size  Founded        Type of ownership  \\\n",
      "0   1001 to 5000 employees     1993   Nonprofit Organization   \n",
      "1  5001 to 10000 employees     1968         Company - Public   \n",
      "2   1001 to 5000 employees     1981  Private Practice / Firm   \n",
      "3    501 to 1000 employees     2000         Company - Public   \n",
      "4      51 to 200 employees     1998        Company - Private   \n",
      "\n",
      "                                Industry             Sector  \\\n",
      "0                     Insurance Carriers          Insurance   \n",
      "1                 Research & Development  Business Services   \n",
      "2                             Consulting  Business Services   \n",
      "3  Electrical & Electronic Manufacturing      Manufacturing   \n",
      "4                Advertising & Marketing  Business Services   \n",
      "\n",
      "                      Revenue  \\\n",
      "0    Unknown / Non-Applicable   \n",
      "1      $1 to $2 billion (USD)   \n",
      "2  $100 to $500 million (USD)   \n",
      "3  $100 to $500 million (USD)   \n",
      "4    Unknown / Non-Applicable   \n",
      "\n",
      "                                         Competitors  \n",
      "0            EmblemHealth, UnitedHealth Group, Aetna  \n",
      "1                                                 -1  \n",
      "2                                                 -1  \n",
      "3  MKS Instruments, Pfeiffer Vacuum, Agilent Tech...  \n",
      "4               Commerce Signals, Cardlytics, Yodlee  \n"
     ]
    }
   ],
   "source": [
    "import pandas as pd\n",
    "\n",
    "\n",
    "file_path = r\"C:\\Users\\Zachu\\Downloads\\Data _Cleaning_Project\\Uncleaned_DS_jobs.csv\"\n",
    "dataset = pd.read_csv(r\"C:\\Users\\Zachu\\Downloads\\Data _Cleaning_Project\\Uncleaned_DS_jobs.csv\")\n",
    "#print(dataset.info())\n",
    "print(dataset.isnull().sum())\n",
    "\n",
    "\n",
    "# Specify the column name you want to filter\n",
    "column_2 = 'Salary Estimate'\n",
    "\n",
    "# Remove non-numeric characters from the 'Salary Estimate' column\n",
    "dataset[column_2] = dataset[column_2].str.replace(r'\\D', '', regex=True)\n",
    "\n",
    "# Convert the values to integers\n",
    "dataset[column_2] = pd.to_numeric(dataset[column_2], errors='coerce')\n",
    "\n",
    "# Drop rows with NaN values (rows where conversion failed)\n",
    "dataset = dataset.dropna(subset=[column_2])\n",
    "print(dataset.head())\n",
    "\n",
    "\n"
   ]
  },
  {
   "cell_type": "code",
   "execution_count": 8,
   "metadata": {
    "colab": {
     "base_uri": "https://localhost:8080/"
    },
    "id": "XrcizIShSujn",
    "outputId": "ce2fb25e-b259-4dcf-c644-19b901269567"
   },
   "outputs": [
    {
     "name": "stdout",
     "output_type": "stream",
     "text": [
      "0           Healthfirst\\n3.1\n",
      "1               ManTech\\n4.2\n",
      "2        Analysis Group\\n3.8\n",
      "3               INFICON\\n3.5\n",
      "4    Affinity Solutions\\n2.9\n",
      "Name: Company Name, dtype: object\n",
      "0           Healthfirst\n",
      "1               ManTech\n",
      "2        Analysis Group\n",
      "3               INFICON\n",
      "4    Affinity Solutions\n",
      "Name: Company Name, dtype: object\n"
     ]
    }
   ],
   "source": [
    "# Remove numbers from  companies name\n",
    "column_5 = dataset[\"Company Name\"]\n",
    "print(column_5.head())\n",
    "\n",
    "# Replace digits in the 'Company Name' column\n",
    "dataset[\"Company Name\"] = dataset[\"Company Name\"].str.replace('\\d', '', regex=True)\n",
    "dataset[\"Company Name\"] = dataset[\"Company Name\"].str.replace('\\n.', '', regex=True)\n",
    "\n",
    "# Print the modified 'Company Name' column\n",
    "print(dataset[\"Company Name\"].head())\n",
    "\n",
    "\n",
    "\n",
    "\n",
    "\n",
    "\n",
    "\n",
    "\n",
    "#Min qualifications at least Bachelors degree"
   ]
  },
  {
   "cell_type": "code",
   "execution_count": 9,
   "metadata": {
    "colab": {
     "base_uri": "https://localhost:8080/"
    },
    "id": "osEfHWj0Q00C",
    "outputId": "c2e062bf-b509-4cfe-aabb-eb376f2bf84c"
   },
   "outputs": [
    {
     "name": "stdout",
     "output_type": "stream",
     "text": [
      "                                       Job Description  Keyword Present\n",
      "0    Description\\n\\nThe Senior Data Scientist is re...             True\n",
      "1    Secure our Nation, Ignite your Future\\n\\nJoin ...             True\n",
      "2    Overview\\n\\n\\nAnalysis Group is one of the lar...             True\n",
      "3    JOB DESCRIPTION:\\n\\nDo you have a passion for ...             True\n",
      "4    Data Scientist\\nAffinity Solutions / Marketing...             True\n",
      "..                                                 ...              ...\n",
      "667  Summary\\n\\nWe’re looking for a data scientist ...             True\n",
      "668  Job Description\\nBecome a thought leader withi...            False\n",
      "669  Join a thriving company that is changing the w...             True\n",
      "670  100 Remote Opportunity As an AINLP Data Scient...             True\n",
      "671  Description\\n\\nThe Data Scientist will be part...             True\n",
      "\n",
      "[672 rows x 2 columns]\n",
      "604\n"
     ]
    }
   ],
   "source": [
    "#Job Description includes Excel, Python or Machine Learning\n",
    "\n",
    "keywords = ['Excel', 'Python', 'Machine Learning']\n",
    "dataset['Keyword Present'] = dataset['Job Description'].str.contains('|'.join(keywords), case=False)\n",
    "print(dataset[['Job Description', 'Keyword Present']])\n",
    "num_of_jobs = dataset[\"Keyword Present\"].sum()\n",
    "print(num_of_jobs)"
   ]
  },
  {
   "cell_type": "code",
   "execution_count": 10,
   "metadata": {
    "colab": {
     "base_uri": "https://localhost:8080/"
    },
    "id": "YCvc0QsqVmWo",
    "outputId": "513609c4-8def-4fe4-8848-220c11ca74f2"
   },
   "outputs": [
    {
     "name": "stdout",
     "output_type": "stream",
     "text": [
      "     Experience                                    Job Description\n",
      "629         1.0  Job Description\\nData Scientist\\nDuration: 6+ ...\n",
      "201         1.0  Company information\\n\\nCoverent is a specializ...\n",
      "246         1.0  Logistics done differently.At XPO Logistics, w...\n",
      "62          1.0  Introduction\\n\\nHave you always wanted to run ...\n",
      "426         1.0  Company information\\n\\nCoverent is a specializ...\n",
      "558         1.0  About Us:\\n\\nNYSTEC is a non-profit technology...\n",
      "49          1.0  Company Description:\\nWhats it like to work at...\n",
      "230         1.0  Senior Data Scientist Active Secret clearance ...\n",
      "505         1.0  Job Description\\nData Scientist\\nDuration: 6+ ...\n",
      "266         1.0  Summary of the Position\\n\\n\\nThe Data Scientis...\n",
      "364         1.0  Company Description:\\nWhats it like to work at...\n",
      "19          1.0  Responsibilities\\n\\n\\nThe Medical Laboratory S...\n",
      "7           1.0  Introduction\\n\\nHave you always wanted to run ...\n",
      "651         2.0  Company\\n\\nAstraZeneca is a global, innovation...\n",
      "667         2.0  Summary\\n\\nWe’re looking for a data scientist ...\n",
      "489         2.0  Job Description:\\n\\nDesigns, develops and prog...\n",
      "186         2.0  POSITION SUMMARY:\\nProduction Engineer - Stati...\n",
      "455         2.0  Requisition Number: 69506\\nCompany Name: DRG I...\n",
      "444         2.0  About Hive\\n\\nHive is a full-stack deep learni...\n",
      "336         2.0  Requisition Number: 69506\\nCompany Name: DRG I...\n",
      "374         2.0  Scientist 1 - Machine Learning - Cell Science\\...\n",
      "154         2.0  Covaxx, a subsidiary of the UBI Group, has joi...\n",
      "368         2.0  Job Description\\nOur client is committed to un...\n",
      "370         2.0  Company\\n\\nAstraZeneca is a global, innovation...\n",
      "412         2.0  Job Description\\nAre you an experienced Data S...\n",
      "404         2.0  British American Tobacco\\nReynolds American In...\n",
      "177         2.0  *Organization and Job ID**\\nJob ID: 310918\\n\\n...\n",
      "291         2.0  Job Description\\nRole: Data scientist\\nLocatio...\n",
      "323         2.0  We are looking for Data Scientists who are int...\n",
      "256         2.0  We are currently seeking an Environmental Data...\n",
      "12          2.0  *Organization and Job ID**\\nJob ID: 310918\\n\\n...\n",
      "621         2.0  Day to Day Responsibilities:\\nDaily responsibi...\n",
      "237         2.0  Who we are\\n\\n\\nFueled by a fundamental belief...\n",
      "604         2.0  Job Description:\\n\\nDesigns, develops and prog...\n",
      "242         2.0  1010data values:\\n\\n\\nIntegrity: Doing the rig...\n",
      "29          2.0  Formation provides personalization for the lar...\n",
      "588         2.0  Senior Data Engineer\\n\\nMaster’s degree in Inf...\n",
      "648         2.0  Job Description\\nOur client is committed to un...\n",
      "585         2.0  We are seeking a Sr. Research Associate/Scient...\n",
      "226         2.0  Hi Greetings from Photon!!!!!!! We are looking...\n",
      "215         2.0  Company\\n\\nAstraZeneca is a global, innovation...\n",
      "48          2.0  We are looking for Data Scientists who are int...\n",
      "539         2.0  Growth with a Purpose\\nOppLoans is a rapidly g...\n",
      "255         2.0  Encouraging Diversity applicants Required Skil...\n",
      "526         2.0  Scientist 1 - Machine Learning - Cell Science\\...\n",
      "582         2.0  British American Tobacco\\nReynolds American In...\n"
     ]
    }
   ],
   "source": [
    "#Years of experience = 2 years or less\n",
    "\n",
    "dataset['Experience'] = dataset['Job Description'].str.extract(r'(\\d+) year[s]*').astype(float)\n",
    "sorted_values = dataset.sort_values(by='Experience', ascending=True)\n",
    "filtered_values = sorted_values[sorted_values['Experience'] <= 2]\n",
    "\n",
    "\n",
    "print(filtered_values[['Experience', 'Job Description']])"
   ]
  },
  {
   "cell_type": "code",
   "execution_count": 38,
   "metadata": {
    "colab": {
     "base_uri": "https://localhost:8080/"
    },
    "id": "OCygnj5rcQlP",
    "outputId": "d9566c19-852e-44cd-8b22-65b459d9b477"
   },
   "outputs": [
    {
     "name": "stdout",
     "output_type": "stream",
     "text": [
      "    Education                                    Job Description\n",
      "0    Bachelor  Description\\n\\nThe Senior Data Scientist is re...\n",
      "400  Bachelor  Join our team dedicated to developing and exec...\n",
      "401  Bachelor  YOUR LIFE'S MISSION: POSSIBLE\\n\\nYou have goal...\n",
      "402  Bachelor  The Lead Certified Clinical Laboratory Scienti...\n",
      "403  Bachelor  Position Overview:\\n\\nThe Sr. Data Analyst pla...\n",
      "..        ...                                                ...\n",
      "666       NaN  About Foundation Medicine:\\n\\nFoundation Medic...\n",
      "667       NaN  Summary\\n\\nWe’re looking for a data scientist ...\n",
      "668       NaN  Job Description\\nBecome a thought leader withi...\n",
      "669       NaN  Join a thriving company that is changing the w...\n",
      "671       NaN  Description\\n\\nThe Data Scientist will be part...\n",
      "\n",
      "[672 rows x 2 columns]\n",
      "Number of Jobs containing Bachelors degree:  241\n",
      "Number of Jobs containing Masters degree:  90\n",
      "Number of Jobs containing PHD degree:  1\n",
      "Number of true (null) values. I.E No Education listed:  340\n",
      "Number of false (non-null) values. I.E Education IS listed somewhere:  332\n"
     ]
    }
   ],
   "source": [
    "\n",
    "degree_keywords = ['Bachelor', 'Master', 'PHD']\n",
    "dataset['Education'] = dataset['Job Description'].str.extract(f'({\"|\".join(degree_keywords)})')\n",
    "sorted_data = dataset.sort_values(by='Education')\n",
    "print(sorted_data[['Education', 'Job Description']])\n",
    "\n",
    "\n",
    "bachelor_degree = dataset['Education'].str.contains('Bachelor').sum()\n",
    "print(\"Number of Jobs containing Bachelors degree: \", bachelor_degree)\n",
    "masters_degree = dataset['Education'].str.contains('Master').sum()\n",
    "print(\"Number of Jobs containing Masters degree: \", masters_degree)\n",
    "phd = dataset['Education'].str.contains('PHD').sum()\n",
    "print(\"Number of Jobs containing PHD degree: \", phd)\n",
    "\n",
    "\n",
    "\n",
    "total_education = dataset['Education'].isnull().value_counts()\n",
    "print(\"Number of true (null) values. I.E No Education listed: \", total_education[True])\n",
    "print(\"Number of false (non-null) values. I.E Education IS listed somewhere: \", total_education[False])"
   ]
  },
  {
   "cell_type": "code",
   "execution_count": null,
   "metadata": {},
   "outputs": [],
   "source": [
    "keywords = (\"AL\", \"AK\", \"AZ\", \"AR\", \"CA\", \"CO\", \"CT\", \"DE\", \"FL\", \"GA\", \"HI\", \"ID\", \"IL\", \"IN\", \"IA\", \"KS\", \"KY\", \"LA\", \"ME\", \"MD\", \"MA\", \"MI\", \"MN\", \"MS\", \"MO\", \"MT\", \"NE\", \"NV\", \"NH\", \"NJ\", \"NM\", \"NY\", \"NC\", \"ND\", \"OH\", \"OK\", \"OR\", \"PA\", \"RI\", \"SC\", \"SD\", \"TN\", \"TX\", \"UT\", \"VT\", \"VA\", \"WA\", \"WV\", \"WI\", \"WY\")\n",
    "dataset['keyword'] = dataset['Location'].str.extract(f'({\"|\".join(keywords)})')\n",
    "sorted_values = dataset.sort_values(by='keyword')\n",
    "print(sorted_values[['keyword', 'Location']])"
   ]
  }
 ],
 "metadata": {
  "colab": {
   "provenance": []
  },
  "kernelspec": {
   "display_name": "Python 3 (ipykernel)",
   "language": "python",
   "name": "python3"
  },
  "language_info": {
   "codemirror_mode": {
    "name": "ipython",
    "version": 3
   },
   "file_extension": ".py",
   "mimetype": "text/x-python",
   "name": "python",
   "nbconvert_exporter": "python",
   "pygments_lexer": "ipython3",
   "version": "3.11.5"
  }
 },
 "nbformat": 4,
 "nbformat_minor": 1
}
